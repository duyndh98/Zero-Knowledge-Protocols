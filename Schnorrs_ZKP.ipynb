{
 "cells": [
  {
   "cell_type": "markdown",
   "metadata": {},
   "source": [
    "## Schnorr's ZKP (Interactive)"
   ]
  },
  {
   "cell_type": "code",
   "execution_count": 1,
   "metadata": {},
   "outputs": [],
   "source": [
    "import math\n",
    "import random\n",
    "\n",
    "from __future__ import print_function\n",
    "\n",
    "import sys\n",
    "\n",
    "import inspect\n",
    "\n",
    "def print_trace(self):\n",
    "    print()\n",
    "    print(f'[{self.__class__.__name__}.{inspect.stack()[1].function}]')\n",
    "\n",
    "def debug_v(expression):\n",
    "    frame = sys._getframe(1)\n",
    "    print(expression.lstrip('self.'), '=', repr(eval(f'vars({expression})', frame.f_globals, frame.f_locals)))\n",
    "\n",
    "def debug(expressions):\n",
    "    frame = sys._getframe(1)\n",
    "    for expression in expressions.split():\n",
    "        print(expression.lstrip('self.'), '=', repr(eval(expression, frame.f_globals, frame.f_locals)))\n",
    "\n",
    "def debug_s(expressions):\n",
    "    frame = sys._getframe(1)\n",
    "    for expression in expressions.split(','):\n",
    "        print(expression.strip().lstrip('self.'), '=', repr(eval(expression, frame.f_globals, frame.f_locals)))"
   ]
  },
  {
   "cell_type": "markdown",
   "metadata": {},
   "source": [
    "### Protocol"
   ]
  },
  {
   "cell_type": "markdown",
   "metadata": {},
   "source": [
    "Prover (P) 🧑‍🚀 ⇨ 👮 Verifier (V)"
   ]
  },
  {
   "cell_type": "markdown",
   "metadata": {},
   "source": [
    "* Private: [a]\n",
    "* Public: (p, g, B)"
   ]
  },
  {
   "cell_type": "code",
   "execution_count": 2,
   "metadata": {},
   "outputs": [
    {
     "name": "stdout",
     "output_type": "stream",
     "text": [
      "prv = {'a': 17}\n"
     ]
    }
   ],
   "source": [
    "class Private:\n",
    "    \n",
    "    def __init__(self, a):\n",
    "        self.a = a\n",
    "\n",
    "prv = Private(17)\n",
    "debug_v('prv')"
   ]
  },
  {
   "cell_type": "code",
   "execution_count": 3,
   "metadata": {},
   "outputs": [
    {
     "name": "stdout",
     "output_type": "stream",
     "text": [
      "pub = {'p': 1987, 'g': 3, 'B': 1059}\n"
     ]
    }
   ],
   "source": [
    "class Public:\n",
    "\n",
    "    def __init__(self, p, g):        \n",
    "        self.p = p\n",
    "        self.g = g\n",
    "        self.B = g ** prv.a % p\n",
    "    \n",
    "pub = Public(1987, 3)\n",
    "debug_v('pub')"
   ]
  },
  {
   "cell_type": "code",
   "execution_count": 4,
   "metadata": {},
   "outputs": [
    {
     "name": "stdout",
     "output_type": "stream",
     "text": [
      "\n",
      "[Prover.send_1]\n",
      "k = 201\n",
      "V = 1259\n",
      "request = {'V': 1259}\n",
      "\n",
      "[Verifier.recv_1]\n",
      "response = {'V': 1259}\n",
      "\n",
      "[Verifier.send_2]\n",
      "r = 1953\n",
      "request = {'r': 1953}\n",
      "\n",
      "[Prover.recv_2]\n",
      "response = {'r': 1953}\n",
      "\n",
      "[Prover.send_3]\n",
      "w = 762\n",
      "request = {'w': 762}\n",
      "\n",
      "[Verifier.recv_3]\n",
      "response = {'w': 762}\n",
      "\n",
      "[Verifier.validate]\n",
      "_V = 1259\n",
      "V = 1259\n",
      "accepted = True\n"
     ]
    },
    {
     "data": {
      "text/plain": [
       "True"
      ]
     },
     "execution_count": 4,
     "metadata": {},
     "output_type": "execute_result"
    }
   ],
   "source": [
    "class Message_1:\n",
    "    def __init__(self, V):\n",
    "        self.V = V\n",
    "\n",
    "class Message_2:\n",
    "    def __init__(self, r):\n",
    "        self.r = r\n",
    "\n",
    "class Message_3:\n",
    "    def __init__(self, w):\n",
    "        self.w = w\n",
    "\n",
    "class Prover:\n",
    "\n",
    "    def send_1(self):\n",
    "        print_trace(self)\n",
    "        \n",
    "        self.k = random.randint(1, pub.p - 1)\n",
    "        self.V = pub.g ** self.k % pub.p\n",
    "\n",
    "        debug('self.k self.V')\n",
    "\n",
    "        request = Message_1(self.V)\n",
    "        debug_v('request')\n",
    "        return request\n",
    "    \n",
    "    def recv_2(self, response):\n",
    "        print_trace(self)\n",
    "        debug_v('response')\n",
    "\n",
    "        self.r = response.r\n",
    "\n",
    "        return\n",
    "    \n",
    "    def send_3(self):\n",
    "        print_trace(self)\n",
    "\n",
    "        self.w = (self.k - prv.a * self.r) % (pub.p - 1)\n",
    "\n",
    "        debug('self.w')\n",
    "\n",
    "        request = Message_3(self.w)\n",
    "        debug_v('request')\n",
    "        return request\n",
    "\n",
    "class Verifier:\n",
    "    \n",
    "    def recv_1(self, response):\n",
    "        print_trace(self)\n",
    "        debug_v('response')\n",
    "        \n",
    "        self.V = response.V\n",
    "\n",
    "        return\n",
    "\n",
    "    def send_2(self):\n",
    "        print_trace(self)\n",
    "\n",
    "        self.r = random.randint(1, pub.p - 1)\n",
    "\n",
    "        debug('self.r')\n",
    "\n",
    "        request = Message_2(self.r)\n",
    "        debug_v('request')\n",
    "        return request\n",
    "    \n",
    "    def recv_3(self, response):\n",
    "        print_trace(self)\n",
    "        debug_v('response')\n",
    "        \n",
    "        self.w = response.w\n",
    "\n",
    "        return\n",
    "    \n",
    "    def validate(self):\n",
    "        print_trace(self)\n",
    "\n",
    "        _V = (pub.g ** self.w * pub.B ** self.r) % pub.p\n",
    "        accepted = self.V == _V\n",
    "\n",
    "        debug('_V self.V accepted')\n",
    "        return accepted\n",
    "\n",
    "prover = Prover()\n",
    "verifier = Verifier()\n",
    "\n",
    "verifier.recv_1(prover.send_1())\n",
    "prover.recv_2(verifier.send_2())\n",
    "verifier.recv_3(prover.send_3())\n",
    "verifier.validate()\n"
   ]
  }
 ],
 "metadata": {
  "kernelspec": {
   "display_name": "Python 3",
   "language": "python",
   "name": "python3"
  },
  "language_info": {
   "codemirror_mode": {
    "name": "ipython",
    "version": 3
   },
   "file_extension": ".py",
   "mimetype": "text/x-python",
   "name": "python",
   "nbconvert_exporter": "python",
   "pygments_lexer": "ipython3",
   "version": "3.12.3"
  }
 },
 "nbformat": 4,
 "nbformat_minor": 2
}
