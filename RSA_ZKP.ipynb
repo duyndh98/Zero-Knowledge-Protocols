{
 "cells": [
  {
   "cell_type": "markdown",
   "metadata": {},
   "source": [
    "## RSA ZKP (Non-interactive)"
   ]
  },
  {
   "cell_type": "code",
   "execution_count": 1,
   "metadata": {},
   "outputs": [],
   "source": [
    "import math\n",
    "import random\n",
    "\n",
    "from __future__ import print_function\n",
    "\n",
    "import sys\n",
    "\n",
    "def debug(expressions):\n",
    "    frame = sys._getframe(1)\n",
    "    for expression in expressions.split():\n",
    "        print(expression, '=', repr(eval(expression, frame.f_globals, frame.f_locals)))\n",
    "\n",
    "def debug_s(expressions):\n",
    "    frame = sys._getframe(1)\n",
    "    for expression in expressions.split(','):\n",
    "        print(expression.strip(), '=', repr(eval(expression, frame.f_globals, frame.f_locals)))"
   ]
  },
  {
   "cell_type": "markdown",
   "metadata": {},
   "source": [
    "### Protocol"
   ]
  },
  {
   "cell_type": "markdown",
   "metadata": {},
   "source": [
    "Prover (P) 🧑‍🚀 ⇨ 👮 Verifier (V)"
   ]
  },
  {
   "cell_type": "markdown",
   "metadata": {},
   "source": [
    "* Private: [m]\n",
    "* Public: (N, e, c)"
   ]
  },
  {
   "cell_type": "code",
   "execution_count": 2,
   "metadata": {},
   "outputs": [
    {
     "data": {
      "text/plain": [
       "{'m': 88}"
      ]
     },
     "execution_count": 2,
     "metadata": {},
     "output_type": "execute_result"
    }
   ],
   "source": [
    "class Private:\n",
    "    \n",
    "    def __init__(self, m):\n",
    "        self.m = m\n",
    "\n",
    "prv = Private(88)\n",
    "vars(prv)"
   ]
  },
  {
   "cell_type": "code",
   "execution_count": 3,
   "metadata": {},
   "outputs": [
    {
     "data": {
      "text/plain": [
       "{'N': 2430101, 'e': 9007, 'c': 160613}"
      ]
     },
     "execution_count": 3,
     "metadata": {},
     "output_type": "execute_result"
    }
   ],
   "source": [
    "class Public:\n",
    "\n",
    "    def __init__(self, N, e, m):        \n",
    "        self.N = N\n",
    "        self.e = e\n",
    "        self.c = m ** e % N\n",
    "    \n",
    "pub = Public(2430101, 9007, prv.m)\n",
    "vars(pub)"
   ]
  },
  {
   "cell_type": "code",
   "execution_count": 4,
   "metadata": {},
   "outputs": [
    {
     "name": "stdout",
     "output_type": "stream",
     "text": [
      "r1 = 1655681\n",
      "r2 = 1878284\n",
      "x1 = 1896463\n",
      "x2 = 441681\n"
     ]
    },
    {
     "data": {
      "text/plain": [
       "True"
      ]
     },
     "execution_count": 4,
     "metadata": {},
     "output_type": "execute_result"
    }
   ],
   "source": [
    "class Request:\n",
    "\n",
    "    def __init__(self, x1, x2):\n",
    "        self.x1 = x1\n",
    "        self.x2 = x2\n",
    "\n",
    "class Prover:\n",
    "\n",
    "    @staticmethod\n",
    "    def send():\n",
    "        r1 = random.randint(0, pub.N)\n",
    "        r2 = prv.m * pow(r1, -1, pub.N) % pub.N\n",
    "\n",
    "        debug('r1 r2')\n",
    "\n",
    "        x1 = r1 ** pub.e % pub.N\n",
    "        x2 = r2 ** pub.e % pub.N\n",
    "\n",
    "        debug('x1 x2')\n",
    "\n",
    "        return Request(x1, x2)\n",
    "    \n",
    "class Verifier:\n",
    "    \n",
    "    @staticmethod\n",
    "    def recv(request):\n",
    "        return request.x1 * request.x2 % pub.N == pub.c\n",
    "\n",
    "Verifier.recv(Prover.send())"
   ]
  },
  {
   "cell_type": "markdown",
   "metadata": {},
   "source": [
    "### Attack"
   ]
  },
  {
   "cell_type": "markdown",
   "metadata": {},
   "source": [
    "Attacker (A) 🥷 ⇨ 👮 Verifier (V)"
   ]
  },
  {
   "cell_type": "code",
   "execution_count": 5,
   "metadata": {},
   "outputs": [
    {
     "name": "stdout",
     "output_type": "stream",
     "text": [
      "r = 1293157\n",
      "x = 2031892\n",
      "v1 = 1602131\n",
      "v2 = 1366491\n"
     ]
    },
    {
     "data": {
      "text/plain": [
       "True"
      ]
     },
     "execution_count": 5,
     "metadata": {},
     "output_type": "execute_result"
    }
   ],
   "source": [
    "class Attacker:\n",
    "    \n",
    "    @staticmethod\n",
    "    def send():\n",
    "        r = random.randint(0, pub.N)\n",
    "        v1 = pub.e * pow(r, -1, pub.N) % pub.N\n",
    "        x = pub.c * pow(pub.e, -1, pub.N) % pub.N\n",
    "        v2 = x * r % pub.N\n",
    "\n",
    "        debug('r x')\n",
    "        debug('v1 v2')\n",
    "\n",
    "        return Request(v1, v2)\n",
    "\n",
    "Verifier.recv(Attacker().send())"
   ]
  }
 ],
 "metadata": {
  "kernelspec": {
   "display_name": "Python 3",
   "language": "python",
   "name": "python3"
  },
  "language_info": {
   "codemirror_mode": {
    "name": "ipython",
    "version": 3
   },
   "file_extension": ".py",
   "mimetype": "text/x-python",
   "name": "python",
   "nbconvert_exporter": "python",
   "pygments_lexer": "ipython3",
   "version": "3.12.3"
  }
 },
 "nbformat": 4,
 "nbformat_minor": 2
}
