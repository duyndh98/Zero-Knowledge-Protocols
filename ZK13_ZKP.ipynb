{
 "cells": [
  {
   "cell_type": "markdown",
   "metadata": {},
   "source": [
    "## ZK13 Non-interactive ZKP"
   ]
  },
  {
   "cell_type": "code",
   "execution_count": 1,
   "metadata": {},
   "outputs": [],
   "source": [
    "import math\n",
    "import random\n",
    "\n",
    "from __future__ import print_function\n",
    "\n",
    "import sys\n",
    "\n",
    "import inspect\n",
    "\n",
    "def print_trace(self):\n",
    "    print()\n",
    "    print(f'[{self.__class__.__name__}.{inspect.stack()[1].function}]')\n",
    "\n",
    "def debug_v(expression):\n",
    "    frame = sys._getframe(1)\n",
    "    print(expression.lstrip('self.'), '=', repr(eval(f'vars({expression})', frame.f_globals, frame.f_locals)))\n",
    "\n",
    "def debug(expressions):\n",
    "    frame = sys._getframe(1)\n",
    "    for expression in expressions.split():\n",
    "        print(expression.lstrip('self.'), '=', repr(eval(expression, frame.f_globals, frame.f_locals)))\n",
    "\n",
    "def debug_s(expressions):\n",
    "    frame = sys._getframe(1)\n",
    "    for expression in expressions.split(','):\n",
    "        print(expression.strip().lstrip('self.'), '=', repr(eval(expression, frame.f_globals, frame.f_locals)))"
   ]
  },
  {
   "cell_type": "markdown",
   "metadata": {},
   "source": [
    "### Protocol"
   ]
  },
  {
   "cell_type": "code",
   "execution_count": 3,
   "metadata": {},
   "outputs": [
    {
     "name": "stdout",
     "output_type": "stream",
     "text": [
      "pub = {'p': 2741, 'g': 7}\n",
      "S = {'s': 2829}\n",
      "\n",
      "[Prover.send]\n",
      "k = 2021\n",
      "r = 352\n",
      "F = 2488\n",
      "P = 1123\n",
      "msg = {'P': 1123, 'r': 352}\n",
      "\n",
      "[Verifier.recv]\n",
      "msg = {'P': 1123, 'r': 352}\n",
      "P = 1123\n",
      "_P = 1123\n",
      "accepted = True\n"
     ]
    },
    {
     "data": {
      "text/plain": [
       "True"
      ]
     },
     "execution_count": 3,
     "metadata": {},
     "output_type": "execute_result"
    }
   ],
   "source": [
    "class Public:\n",
    "    def __init__(self, p, g) -> None:\n",
    "        self.p = p\n",
    "        self.g = g\n",
    "\n",
    "class Secret:\n",
    "    def __init__(self, s) -> None:\n",
    "        self.s = s\n",
    "        \n",
    "    def get_hash(self):\n",
    "        return hash(self.s) % pub.p\n",
    "\n",
    "class Message:\n",
    "    def __init__(self, P, r) -> None:\n",
    "        self.P = P\n",
    "        self.r = r\n",
    "\n",
    "class Prover:\n",
    "    def send(self):\n",
    "        print_trace(self)\n",
    "\n",
    "        k = random.randint(1, pub.p)\n",
    "        r = pub.g ** k % pub.p\n",
    "        F = S.get_hash() * k % (pub.p - 1)\n",
    "        P = pub.g ** F % pub.p\n",
    "\n",
    "        debug('k r F P')\n",
    "\n",
    "        msg = Message(P, r)\n",
    "        debug_v('msg')\n",
    "        return msg\n",
    "\n",
    "class Verifier:\n",
    "    def recv(self, msg):\n",
    "        print_trace(self)\n",
    "        debug_v('msg')\n",
    "\n",
    "        P = msg.P\n",
    "        _P = msg.r ** S.get_hash() % pub.p\n",
    "        \n",
    "        accepted = P == _P\n",
    "        debug('P _P accepted')\n",
    "        return P == _P\n",
    "\n",
    "pub = Public(2741, 7)\n",
    "debug_v('pub')\n",
    "\n",
    "S = Secret(2829)\n",
    "debug_v('S')\n",
    "\n",
    "P = Prover()\n",
    "V = Verifier()\n",
    "\n",
    "V.recv(P.send())\n"
   ]
  }
 ],
 "metadata": {
  "kernelspec": {
   "display_name": "Python 3",
   "language": "python",
   "name": "python3"
  },
  "language_info": {
   "codemirror_mode": {
    "name": "ipython",
    "version": 3
   },
   "file_extension": ".py",
   "mimetype": "text/x-python",
   "name": "python",
   "nbconvert_exporter": "python",
   "pygments_lexer": "ipython3",
   "version": "3.12.3"
  }
 },
 "nbformat": 4,
 "nbformat_minor": 2
}
