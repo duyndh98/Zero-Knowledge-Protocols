{
 "cells": [
  {
   "cell_type": "markdown",
   "metadata": {},
   "source": [
    "## zk-SNARKs (Non-interactive ZKP)"
   ]
  },
  {
   "cell_type": "code",
   "execution_count": 1,
   "metadata": {},
   "outputs": [],
   "source": [
    "import math\n",
    "import random\n",
    "\n",
    "from __future__ import print_function\n",
    "\n",
    "import sys\n",
    "\n",
    "import inspect\n",
    "\n",
    "def print_trace(self):\n",
    "    print()\n",
    "    print(f'[{self.__class__.__name__}.{inspect.stack()[1].function}]')\n",
    "\n",
    "def debug_v(expression):\n",
    "    frame = sys._getframe(1)\n",
    "    print(expression.lstrip('self.'), '=', repr(eval(f'vars({expression})', frame.f_globals, frame.f_locals)))\n",
    "\n",
    "def debug(expressions):\n",
    "    frame = sys._getframe(1)\n",
    "    for expression in expressions.split():\n",
    "        print(expression.lstrip('self.'), '=', repr(eval(expression, frame.f_globals, frame.f_locals)))\n",
    "\n",
    "def debug_s(expressions):\n",
    "    frame = sys._getframe(1)\n",
    "    for expression in expressions.split(','):\n",
    "        print(expression.strip().lstrip('self.'), '=', repr(eval(expression, frame.f_globals, frame.f_locals)))"
   ]
  },
  {
   "cell_type": "markdown",
   "metadata": {},
   "source": [
    "### Protocol"
   ]
  },
  {
   "cell_type": "code",
   "execution_count": 2,
   "metadata": {},
   "outputs": [
    {
     "name": "stdout",
     "output_type": "stream",
     "text": [
      "pub = {'p': 3571}\n",
      "prv = {'a': 7}\n",
      "G = {'g': 17}\n",
      "\n",
      "[Prover.send]\n",
      "msg = {'t': 3314, 'r': 868, 'y': 2205, 'c': 2844}\n",
      "\n",
      "[Verifier.recv]\n",
      "msg = {'t': 3314, 'r': 868, 'y': 2205, 'c': 2844}\n",
      "\n",
      "[Verifier.validate]\n",
      "accepted = True\n"
     ]
    },
    {
     "data": {
      "text/plain": [
       "True"
      ]
     },
     "execution_count": 2,
     "metadata": {},
     "output_type": "execute_result"
    }
   ],
   "source": [
    "class Public:\n",
    "    def __init__(self, p):\n",
    "        self.p = p\n",
    "\n",
    "class Private: \n",
    "    def __init__(self, a):\n",
    "        self.a = a\n",
    "\n",
    "class Generator:\n",
    "    def __init__(self, g):\n",
    "        self.g = g\n",
    "\n",
    "    def generate(self, exp):\n",
    "        return self.g ** exp % pub.p\n",
    "\n",
    "class Hasher:\n",
    "    @staticmethod\n",
    "    def compute(g, y, t):\n",
    "        return hash((g, y, t))  % pub.p\n",
    "\n",
    "class Message:\n",
    "    def __init__(self, t, r, y, c):\n",
    "        self.t = t\n",
    "        self.r = r\n",
    "        self.y = y\n",
    "        self.c = c\n",
    "\n",
    "class Prover:\n",
    "    \n",
    "    def send(self):\n",
    "        print_trace(self)\n",
    "        \n",
    "        y = G.generate(prv.a)\n",
    "        v = random.randint(1, pub.p - 1)\n",
    "        t = G.generate(v)\n",
    "        c = Hasher.compute(G.g, y, t)\n",
    "        r = (v - c * prv.a) % (pub.p - 1)\n",
    "        \n",
    "        msg = Message(t, r, y, c)\n",
    "        debug_v('msg')\n",
    "\n",
    "        return msg\n",
    "\n",
    "class Verifier:\n",
    "\n",
    "    def recv(self, msg):\n",
    "        print_trace(self)\n",
    "        debug_v('msg')\n",
    "        \n",
    "        self.t = msg.t\n",
    "        self.r = msg.r\n",
    "        self.y = msg.y\n",
    "        self.c = msg.c\n",
    "\n",
    "    def validate(self):\n",
    "        print_trace(self)\n",
    "        accepted = self.t == G.generate(self.r) * (self.y ** self.c) % pub.p\n",
    "        debug('accepted')\n",
    "        \n",
    "        return accepted\n",
    "\n",
    "pub = Public(3571)\n",
    "debug_v('pub')\n",
    "\n",
    "prv = Private(7)\n",
    "debug_v('prv')\n",
    "\n",
    "G = Generator(17)\n",
    "debug_v('G')\n",
    "\n",
    "P = Prover()\n",
    "V = Verifier()\n",
    "\n",
    "V.recv(P.send())\n",
    "V.validate()"
   ]
  },
  {
   "cell_type": "markdown",
   "metadata": {},
   "source": [
    "### Attack"
   ]
  },
  {
   "cell_type": "code",
   "execution_count": 3,
   "metadata": {},
   "outputs": [
    {
     "name": "stdout",
     "output_type": "stream",
     "text": [
      "\n",
      "[Prover.send]\n",
      "msg = {'t': 1388, 'r': 809, 'y': 2205, 'c': 1211}\n",
      "\n",
      "[Attacker.recv]\n",
      "msg = {'t': 1388, 'r': 809, 'y': 2205, 'c': 1211}\n",
      "\n",
      "[Attacker.send]\n",
      "msg = {'t': 384, 'r': 2454, 'y': 2205, 'c': 3570}\n",
      "\n",
      "[Verifier.recv]\n",
      "msg = {'t': 384, 'r': 2454, 'y': 2205, 'c': 3570}\n",
      "\n",
      "[Verifier.validate]\n",
      "accepted = True\n"
     ]
    },
    {
     "data": {
      "text/plain": [
       "True"
      ]
     },
     "execution_count": 3,
     "metadata": {},
     "output_type": "execute_result"
    }
   ],
   "source": [
    "class Attacker:\n",
    "    \n",
    "    def recv(self, msg):\n",
    "        print_trace(self)\n",
    "        debug_v('msg')\n",
    "        \n",
    "        self.t = msg.t\n",
    "        self.r = msg.r\n",
    "        self.y = msg.y\n",
    "        self.c = msg.c\n",
    "\n",
    "    def send(self):\n",
    "        print_trace(self)\n",
    "        \n",
    "        y = self.y\n",
    "        v1 = random.randint(1, pub.p - 1)\n",
    "        t1 = G.generate(v1)\n",
    "        c1 = pub.p - 1\n",
    "        r1 = v1\n",
    "        \n",
    "        msg = Message(t1, r1, y, c1)\n",
    "        debug_v('msg')\n",
    "\n",
    "        return msg\n",
    "\n",
    "P = Prover()\n",
    "A = Attacker()\n",
    "V = Verifier()\n",
    "\n",
    "A.recv(P.send())\n",
    "V.recv(A.send())\n",
    "V.validate()"
   ]
  }
 ],
 "metadata": {
  "kernelspec": {
   "display_name": "Python 3",
   "language": "python",
   "name": "python3"
  },
  "language_info": {
   "codemirror_mode": {
    "name": "ipython",
    "version": 3
   },
   "file_extension": ".py",
   "mimetype": "text/x-python",
   "name": "python",
   "nbconvert_exporter": "python",
   "pygments_lexer": "ipython3",
   "version": "3.12.3"
  }
 },
 "nbformat": 4,
 "nbformat_minor": 2
}
